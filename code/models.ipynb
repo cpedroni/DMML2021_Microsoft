{
  "cells": [
    {
      "cell_type": "markdown",
      "source": [
        "# Multiclass text classification\n",
        "\n",
        "DMML - 2021 \n",
        "Melinda Femminis, Catherine Pedroni, Estelle Valerie Tsague Mbialeu\n",
        "\n",
        "**Detecting the difficulty level of french texts**"
      ],
      "metadata": {
        "id": "DPyY-PReonLk"
      }
    },
    {
      "cell_type": "code",
      "source": [
        "from IPython.display import YouTubeVideo\n",
        "YouTubeVideo('E2dCIjSSVVc')"
      ],
      "metadata": {
        "colab": {
          "base_uri": "https://localhost:8080/",
          "height": 321
        },
        "id": "4V6ynFuaov8K",
        "outputId": "e3feee22-bf7d-4830-e6e7-412d65c5ffb0"
      },
      "execution_count": 2,
      "outputs": [
        {
          "output_type": "execute_result",
          "data": {
            "text/html": [
              "\n",
              "        <iframe\n",
              "            width=\"400\"\n",
              "            height=\"300\"\n",
              "            src=\"https://www.youtube.com/embed/E2dCIjSSVVc\"\n",
              "            frameborder=\"0\"\n",
              "            allowfullscreen\n",
              "        ></iframe>\n",
              "        "
            ],
            "text/plain": [
              "<IPython.lib.display.YouTubeVideo at 0x7f625ee4fc10>"
            ],
            "image/jpeg": "[encoded data removed]"
          },
          "metadata": {},
          "execution_count": 2
        }
      ]
    },
    {
      "cell_type": "markdown",
      "source": [
        "# Imports"
      ],
      "metadata": {
        "id": "obWyEU9ED5GM"
      }
    },
    {
      "cell_type": "code",
      "execution_count": null,
      "metadata": {
        "id": "PuKDyTT4S4eS"
      },
      "outputs": [],
      "source": [
        "%matplotlib inline\n",
        "import numpy as np\n",
        "import matplotlib.pyplot as plt\n",
        "import pandas as pd \n",
        "import seaborn as sns"
      ]
    },
    {
      "cell_type": "code",
      "execution_count": null,
      "metadata": {
        "colab": {
          "base_uri": "https://localhost:8080/"
        },
        "id": "wcG-KmmZLSN1",
        "outputId": "a971e3d5-c143-44dd-f616-984a47f015e5"
      },
      "outputs": [
        {
          "output_type": "stream",
          "name": "stdout",
          "text": [
            "Mounted at drive\n"
          ]
        }
      ],
      "source": [
        "from google.colab import drive\n",
        "drive.mount('drive')"
      ]
    },
    {
      "cell_type": "code",
      "execution_count": null,
      "metadata": {
        "id": "9TN9B7Y1TACe",
        "outputId": "f99d9035-4649-4cff-ee41-7a1aff9f70c1",
        "colab": {
          "base_uri": "https://localhost:8080/",
          "height": 191
        }
      },
      "outputs": [
        {
          "output_type": "error",
          "ename": "NameError",
          "evalue": "ignored",
          "traceback": [
            "\u001b[0;31m---------------------------------------------------------------------------\u001b[0m",
            "\u001b[0;31mNameError\u001b[0m                                 Traceback (most recent call last)",
            "\u001b[0;32m<ipython-input-1-64012c3d6206>\u001b[0m in \u001b[0;36m<module>\u001b[0;34m()\u001b[0m\n\u001b[0;32m----> 1\u001b[0;31m \u001b[0mtrain_df\u001b[0m \u001b[0;34m=\u001b[0m \u001b[0mpd\u001b[0m\u001b[0;34m.\u001b[0m\u001b[0mread_csv\u001b[0m\u001b[0;34m(\u001b[0m\u001b[0;34m'https://raw.githubusercontent.com/cpedroni/DMML2021_Microsoft/main/data/training_data.csv'\u001b[0m\u001b[0;34m)\u001b[0m\u001b[0;34m\u001b[0m\u001b[0;34m\u001b[0m\u001b[0m\n\u001b[0m\u001b[1;32m      2\u001b[0m \u001b[0mpred_df\u001b[0m \u001b[0;34m=\u001b[0m \u001b[0mpd\u001b[0m\u001b[0;34m.\u001b[0m\u001b[0mread_csv\u001b[0m\u001b[0;34m(\u001b[0m\u001b[0;34m'https://raw.githubusercontent.com/cpedroni/DMML2021_Microsoft/main/data/unlabelled_test_data.csv'\u001b[0m\u001b[0;34m)\u001b[0m\u001b[0;34m\u001b[0m\u001b[0;34m\u001b[0m\u001b[0m\n",
            "\u001b[0;31mNameError\u001b[0m: name 'pd' is not defined"
          ]
        }
      ],
      "source": [
        "train_df = pd.read_csv('https://raw.githubusercontent.com/cpedroni/DMML2021_Microsoft/main/data/training_data.csv')\n",
        "pred_df = pd.read_csv('https://raw.githubusercontent.com/cpedroni/DMML2021_Microsoft/main/data/unlabelled_test_data.csv')"
      ]
    },
    {
      "cell_type": "code",
      "execution_count": null,
      "metadata": {
        "colab": {
          "base_uri": "https://localhost:8080/"
        },
        "id": "M1GjQpxCTHgA",
        "outputId": "2a3afac4-aac6-4808-d479-92fc8282aa3b"
      },
      "outputs": [
        {
          "output_type": "stream",
          "name": "stdout",
          "text": [
            "[nltk_data] Downloading package stopwords to /root/nltk_data...\n",
            "[nltk_data]   Unzipping corpora/stopwords.zip.\n",
            "[nltk_data] Downloading package punkt to /root/nltk_data...\n",
            "[nltk_data]   Unzipping tokenizers/punkt.zip.\n"
          ]
        },
        {
          "output_type": "execute_result",
          "data": {
            "text/plain": [
              "True"
            ]
          },
          "metadata": {},
          "execution_count": 5
        }
      ],
      "source": [
        "from sklearn.linear_model import LogisticRegression\n",
        "from sklearn.neighbors import KNeighborsClassifier\n",
        "from sklearn.tree import DecisionTreeClassifier\n",
        "from sklearn.ensemble import RandomForestClassifier\n",
        "from sklearn.model_selection import GridSearchCV\n",
        "from sklearn.pipeline import Pipeline\n",
        "from sklearn.model_selection import train_test_split\n",
        "from sklearn.metrics import confusion_matrix, accuracy_score, precision_score, recall_score, f1_score\n",
        "from sklearn.metrics import classification_report\n",
        "from sklearn.feature_extraction.text import TfidfVectorizer\n",
        "from nltk import word_tokenize\n",
        "import nltk as nltk\n",
        "nltk.download('stopwords')\n",
        "nltk.download('punkt')"
      ]
    },
    {
      "cell_type": "markdown",
      "source": [
        "# Exploratory data analysis"
      ],
      "metadata": {
        "id": "jQzpXKxHIAUy"
      }
    },
    {
      "cell_type": "code",
      "source": [
        "# How many sentences of each category\n",
        "train_df['difficulty'].value_counts()"
      ],
      "metadata": {
        "colab": {
          "base_uri": "https://localhost:8080/"
        },
        "id": "uPcMz6d0LaFz",
        "outputId": "2b272dce-57cf-4157-f7da-0fcc20d0541a"
      },
      "execution_count": null,
      "outputs": [
        {
          "output_type": "execute_result",
          "data": {
            "text/plain": [
              "A1    813\n",
              "C2    807\n",
              "C1    798\n",
              "A2    795\n",
              "B1    795\n",
              "B2    792\n",
              "Name: difficulty, dtype: int64"
            ]
          },
          "metadata": {},
          "execution_count": 45
        }
      ]
    },
    {
      "cell_type": "code",
      "source": [
        "plt.figure(figsize=(8,6))\n",
        "sns.countplot(x=train_df.difficulty)\n",
        "plt.show()"
      ],
      "metadata": {
        "colab": {
          "base_uri": "https://localhost:8080/",
          "height": 388
        },
        "id": "F_RNaG45LdXv",
        "outputId": "08bcaf35-736f-43a9-ac9e-544fca6297b5"
      },
      "execution_count": null,
      "outputs": [
        {
          "output_type": "display_data",
          "data": {
            "image/png": "[encoded data removed]",
            "text/plain": [
              "<Figure size 576x432 with 1 Axes>"
            ]
          },
          "metadata": {
            "needs_background": "light"
          }
        }
      ]
    },
    {
      "cell_type": "code",
      "source": [
        "# Base rate\n",
        "round(813 / len(train_df), 3)"
      ],
      "metadata": {
        "colab": {
          "base_uri": "https://localhost:8080/"
        },
        "id": "bW8mJqRzLf-0",
        "outputId": "6772ff33-2181-43a4-ad0c-6dfb8d10e28d"
      },
      "execution_count": null,
      "outputs": [
        {
          "output_type": "execute_result",
          "data": {
            "text/plain": [
              "0.169"
            ]
          },
          "metadata": {},
          "execution_count": 47
        }
      ]
    },
    {
      "cell_type": "markdown",
      "metadata": {
        "id": "kqiqUZWHzqYm"
      },
      "source": [
        "# Metrics function"
      ]
    },
    {
      "cell_type": "code",
      "execution_count": null,
      "metadata": {
        "id": "cyQEAQLxwhB3"
      },
      "outputs": [],
      "source": [
        "def metrics(y_test, y_pred):\n",
        "  precision = precision_score(y_test, y_pred, average='macro')\n",
        "  recall = recall_score(y_test, y_pred, average='macro')\n",
        "  print(\"Precision: \" + str(precision))\n",
        "  print(\"Recall: \" + str(recall))\n",
        "  print(\"F1: \" + str(2 * (precision * recall) / (precision + recall)))\n",
        "  print(\"Accuracy: \" + str(accuracy_score(y_test, y_pred)))"
      ]
    },
    {
      "cell_type": "markdown",
      "source": [
        "# Base models: no preprocess, grid search"
      ],
      "metadata": {
        "id": "qzaGxoLeIDuU"
      }
    },
    {
      "cell_type": "markdown",
      "source": [
        "## Train test split"
      ],
      "metadata": {
        "id": "KhKZlDucIUU_"
      }
    },
    {
      "cell_type": "code",
      "execution_count": null,
      "metadata": {
        "id": "EtMJxBRPRqmd"
      },
      "outputs": [],
      "source": [
        "X = train_df['sentence'] \n",
        "ylabels = train_df['difficulty'] \n",
        "X_train, X_test, y_train, y_test = train_test_split(X, ylabels, test_size=0.2, random_state=0)"
      ]
    },
    {
      "cell_type": "markdown",
      "metadata": {
        "id": "EHRaUFtNTRSs"
      },
      "source": [
        "## Logistic Regression"
      ]
    },
    {
      "cell_type": "code",
      "execution_count": null,
      "metadata": {
        "colab": {
          "base_uri": "https://localhost:8080/"
        },
        "id": "GKd8XuUET1Ow",
        "outputId": "8be27586-70c6-41b4-ebec-8e1737dbcbeb"
      },
      "outputs": [
        {
          "output_type": "stream",
          "name": "stdout",
          "text": [
            "Precision: 0.4815518348884597\n",
            "Recall: 0.484451056383658\n",
            "F1: 0.48299709498382265\n",
            "Accuracy: 0.48333333333333334\n"
          ]
        }
      ],
      "source": [
        "tfidf_params = dict(sublinear_tf= True, \n",
        "                       min_df = 1, \n",
        "                       norm= 'l2', \n",
        "                       ngram_range= (1,1),\n",
        "                       lowercase=True,\n",
        "                       tokenizer=word_tokenize)\n",
        "\n",
        "clf_logreg = Pipeline(steps=[\n",
        "  ('features', TfidfVectorizer(**tfidf_params)),\n",
        "  ('model', LogisticRegression(random_state=0, solver='lbfgs', max_iter=300))\n",
        "])\n",
        "\n",
        "clf_logreg.fit(X_train, y_train)\n",
        "\n",
        "y_pred_log = clf_logreg.predict(X_test)\n",
        "metrics(y_test, y_pred_log)"
      ]
    },
    {
      "cell_type": "code",
      "source": [
        "plt.figure(figsize=(8,6))\n",
        "sns.heatmap(pd.DataFrame(confusion_matrix(y_test, y_pred_log)), annot=True, cmap='PuRd', fmt='.4g')"
      ],
      "metadata": {
        "colab": {
          "base_uri": "https://localhost:8080/",
          "height": 391
        },
        "id": "H1fAZwEbFJrs",
        "outputId": "d9ef67eb-ba48-462d-a073-9d30d8657132"
      },
      "execution_count": null,
      "outputs": [
        {
          "output_type": "execute_result",
          "data": {
            "text/plain": [
              "<matplotlib.axes._subplots.AxesSubplot at 0x7fc3100f5550>"
            ]
          },
          "metadata": {},
          "execution_count": 90
        },
        {
          "output_type": "display_data",
          "data": {
            "image/png": "[encoded data removed]",
            "text/plain": [
              "<Figure size 576x432 with 2 Axes>"
            ]
          },
          "metadata": {
            "needs_background": "light"
          }
        }
      ]
    },
    {
      "cell_type": "code",
      "source": [
        "# What sentences are missclassified ? \n",
        "test_sent = np.array(X_test)\n",
        "test_array = np.array(y_test)\n",
        "pred_array = np.array(y_pred_log)\n",
        "wrong_predictions = list()\n",
        "for i in range(0, 100):\n",
        "  if pred_array[i] != test_array[i]:\n",
        "     wrong_predictions.append([test_sent[i], test_array[i], pred_array[i]])\n",
        "wrong_predictions[:10]"
      ],
      "metadata": {
        "colab": {
          "base_uri": "https://localhost:8080/"
        },
        "id": "WLtDtvlLpq-5",
        "outputId": "aebbf298-578c-4669-a8af-e466f18da35d"
      },
      "execution_count": null,
      "outputs": [
        {
          "output_type": "execute_result",
          "data": {
            "text/plain": [
              "[[\"C'est en décembre 1967, après bien des invectives au Parlement, que sa loi relative à la régulation des naissances, dite loi Neuwirth est votée : elle autorise la vente exclusive des contraceptifs en pharmacie sur ordonnance médicale, avec autorisation parentale pour les mineures\",\n",
              "  'C1',\n",
              "  'C2'],\n",
              " ['Giscard va pourtant réussir à transformer ce revers en tremplin',\n",
              "  'C1',\n",
              "  'A2'],\n",
              " [\"Un choix difficile mais important : le public français écoute souvent les professionnels de Cannes pour choisir le film qu'il va aller voir au cinéma.\",\n",
              "  'A2',\n",
              "  'B1'],\n",
              " [\"Le débat porte plutôt sur l'utilité d'une telle mesure.\", 'B1', 'B2'],\n",
              " [\"Il faut du temps et du courage pour soigner toute cette ménagerie En plus des animaux, il faut aussi s'occuper du potager de mon papy\",\n",
              "  'A2',\n",
              "  'B1'],\n",
              " [\"Vous eussiez juré que les gens la voyaient, l'entendaient rouler pesamment devant eux, retentissante de tous les trésors enfermés dans ses flancs.\",\n",
              "  'C1',\n",
              "  'C2'],\n",
              " [\"Mon frère Patrice est plus jeune que moi, il va à l'école des petits.\",\n",
              "  'A1',\n",
              "  'A2'],\n",
              " ['Le risque de plagiat?', 'C1', 'A1'],\n",
              " ['Je vous souhaite bonne année pleine de bonheur et de joie Bbonne continuation Merci Bachy pour ton message !',\n",
              "  'B1',\n",
              "  'A2'],\n",
              " ['Le visage comprend une oreille de chaque côté, deux yeux surmontés par les sourcils et un nez au centre',\n",
              "  'B1',\n",
              "  'C2']]"
            ]
          },
          "metadata": {},
          "execution_count": 114
        }
      ]
    },
    {
      "cell_type": "markdown",
      "metadata": {
        "id": "K3bNWITwFDp1"
      },
      "source": [
        "### This is the best model :predictions on pred_df and csv export"
      ]
    },
    {
      "cell_type": "code",
      "execution_count": null,
      "metadata": {
        "id": "TiPJwXMDFDHC"
      },
      "outputs": [],
      "source": [
        "preddf_log = clf.predict(pred_df[\"sentence\"])\n",
        "sample_submission = pred_df.drop([\"sentence\"], axis=1)\n",
        "sample_submission[\"difficulty\"] = preddf_log\n",
        "sample_submission.head()\n",
        "sample_submission.to_csv('sample_submission.csv', index=False)\n",
        "!cp sample_submission.csv \"drive/My Drive/\""
      ]
    },
    {
      "cell_type": "markdown",
      "metadata": {
        "id": "cHgyT0LpT2LW"
      },
      "source": [
        "## KNN"
      ]
    },
    {
      "cell_type": "code",
      "execution_count": null,
      "metadata": {
        "id": "dLSG2K5tT3Wr",
        "colab": {
          "base_uri": "https://localhost:8080/"
        },
        "outputId": "a5c1bc3c-b9e2-49fc-8bac-429f55411d16"
      },
      "outputs": [
        {
          "output_type": "stream",
          "name": "stdout",
          "text": [
            "Precision: 0.37199098400458047\n",
            "Recall: 0.19011410356132766\n",
            "F1: 0.25162815288924\n",
            "Accuracy: 0.190625\n"
          ]
        }
      ],
      "source": [
        "tfidf_params = dict(sublinear_tf= True, \n",
        "                       min_df = 33, \n",
        "                       norm= 'l2', \n",
        "                       ngram_range= (1,1))\n",
        "\n",
        "clf_knn = Pipeline(steps=[\n",
        "  ('features', TfidfVectorizer(**tfidf_params)),\n",
        "  ('model', KNeighborsClassifier(n_neighbors=30))\n",
        "])\n",
        "clf_knn.fit(X_train, y_train)\n",
        "y_pred_knn = clf_knn.predict(X_test)\n",
        "metrics(y_test, y_pred_knn)"
      ]
    },
    {
      "cell_type": "code",
      "execution_count": null,
      "metadata": {
        "id": "ybr7KYQpUCap",
        "colab": {
          "base_uri": "https://localhost:8080/"
        },
        "outputId": "53b6e3ea-1ee1-43b8-d3fc-542b05afb5f2"
      },
      "outputs": [
        {
          "output_type": "stream",
          "name": "stdout",
          "text": [
            "Hyperparameters: {'n_neighbors': 67, 'p': 2, 'weights': 'distance'}\n",
            "Train Score: 0.3797\n",
            "Test Score: 0.401\n"
          ]
        }
      ],
      "source": [
        "# Use gridsearch\n",
        "\n",
        "tfidf = TfidfVectorizer(sublinear_tf=True, \n",
        "                        min_df=7, \n",
        "                        norm='l2', \n",
        "                        ngram_range=(1, 1))\n",
        "X_train_norm = tfidf.fit_transform(X_train)\n",
        "X_test_norm = tfidf.transform(X_test)\n",
        "\n",
        "grid = {'n_neighbors':np.arange(1,100),\n",
        "        'p':np.arange(1,3),\n",
        "        'weights':['uniform','distance']\n",
        "       }\n",
        "knn = KNeighborsClassifier()\n",
        "knn_cv = GridSearchCV(knn, grid, cv=5)\n",
        "knn_cv.fit(X_train_norm, y_train)\n",
        "\n",
        "# Print results\n",
        "print(\"Hyperparameters:\", knn_cv.best_params_)"
      ]
    },
    {
      "cell_type": "code",
      "execution_count": null,
      "metadata": {
        "id": "jRr1LtteUNQU",
        "colab": {
          "base_uri": "https://localhost:8080/"
        },
        "outputId": "136eb134-b0d4-4335-ee36-12d55846149a"
      },
      "outputs": [
        {
          "output_type": "stream",
          "name": "stdout",
          "text": [
            "Precision: 0.4505571656860227\n",
            "Recall: 0.2678352628253114\n",
            "F1: 0.33595871030937335\n",
            "Accuracy: 0.271875\n"
          ]
        }
      ],
      "source": [
        "# Pipe with best param\n",
        "clf_knn2 = Pipeline(steps=[\n",
        "  ('features', TfidfVectorizer(**tfidf_params)),\n",
        "  ('model', KNeighborsClassifier(n_neighbors=67, p=2, weights='distance'))\n",
        "])\n",
        "\n",
        "clf_knn2.fit(X_train, y_train)\n",
        "y_pred_knn2 = clf_knn2.predict(X_test)\n",
        "metrics(y_test, y_pred_knn2)"
      ]
    },
    {
      "cell_type": "code",
      "source": [
        "plt.figure(figsize=(8,6))\n",
        "sns.heatmap(pd.DataFrame(confusion_matrix(y_test, y_pred_knn2)), annot=True, cmap='PuRd', fmt='.4g')"
      ],
      "metadata": {
        "colab": {
          "base_uri": "https://localhost:8080/",
          "height": 391
        },
        "id": "_bDRO4F6FtUA",
        "outputId": "35114381-0c60-4a8c-8a95-53025c0029b1"
      },
      "execution_count": null,
      "outputs": [
        {
          "output_type": "execute_result",
          "data": {
            "text/plain": [
              "<matplotlib.axes._subplots.AxesSubplot at 0x7fc311fabd90>"
            ]
          },
          "metadata": {},
          "execution_count": 91
        },
        {
          "output_type": "display_data",
          "data": {
            "image/png": "[encoded data removed]",
            "text/plain": [
              "<Figure size 576x432 with 2 Axes>"
            ]
          },
          "metadata": {
            "needs_background": "light"
          }
        }
      ]
    },
    {
      "cell_type": "markdown",
      "source": [
        "## Decision Tree"
      ],
      "metadata": {
        "id": "Mbh-t2Dc_fwW"
      }
    },
    {
      "cell_type": "code",
      "source": [
        "tfidf = TfidfVectorizer(ngram_range=(1, 7),\n",
        "                        min_df = 9, \n",
        "                        norm = 'l2',\n",
        "                        lowercase=True,\n",
        "                        tokenizer=word_tokenize,\n",
        "                        analyzer='word'\n",
        "                        )\n",
        "\n",
        "clf_dt = Pipeline([('vectorizer', tfidf),\n",
        "                 ('classifier', DecisionTreeClassifier(max_depth=1000))])\n",
        "\n",
        "clf_dt.fit(X_train, y_train)\n",
        "y_pred_dt = clf_dt.predict(X_test)\n",
        "metrics(y_test, y_pred_dt)"
      ],
      "metadata": {
        "colab": {
          "base_uri": "https://localhost:8080/"
        },
        "id": "QEJ49lti_hWT",
        "outputId": "a5bdb7e1-8447-435e-8bd3-c9ec5beece8d"
      },
      "execution_count": null,
      "outputs": [
        {
          "output_type": "stream",
          "name": "stdout",
          "text": [
            "Precision: 0.30272335211230655\n",
            "Recall: 0.30316610968967683\n",
            "F1: 0.302944569127034\n",
            "Accuracy: 0.303125\n"
          ]
        }
      ]
    },
    {
      "cell_type": "code",
      "source": [
        "# Grid search\n",
        "\n",
        "grid = {'criterion':['gini','entropy'],\n",
        "             'max_depth':[4,5,6,7,8,9,10,11,12,15,20,30,40,50,70,90,120,150]}\n",
        "\n",
        "classifier = DecisionTreeClassifier()\n",
        "classifier_cv = GridSearchCV(classifier,grid,cv=5)\n",
        "\n",
        "clf_dt2 = Pipeline([('vectorizer', tfidf),\n",
        "                 ('classifier', classifier_cv)])\n",
        "\n",
        "clf_dt2.fit(X_train, y_train)\n",
        "y_pred_dt2 = clf_dt2.predict(X_test)\n",
        "metrics(y_test, y_pred_dt2)"
      ],
      "metadata": {
        "colab": {
          "base_uri": "https://localhost:8080/"
        },
        "id": "d9szqKgUBNUU",
        "outputId": "44e1b2be-cc44-45f1-d2cb-6d839c0da05a"
      },
      "execution_count": null,
      "outputs": [
        {
          "output_type": "stream",
          "name": "stdout",
          "text": [
            "Precision: 0.3047285925891155\n",
            "Recall: 0.3040705168276593\n",
            "F1: 0.3043991990379362\n",
            "Accuracy: 0.30625\n"
          ]
        }
      ]
    },
    {
      "cell_type": "code",
      "source": [
        "plt.figure(figsize=(8,6))\n",
        "sns.heatmap(pd.DataFrame(confusion_matrix(y_test, y_pred_dt2)), annot=True, cmap='PuRd', fmt='.4g')"
      ],
      "metadata": {
        "colab": {
          "base_uri": "https://localhost:8080/",
          "height": 391
        },
        "id": "KQBvPIZTF2wX",
        "outputId": "516ec2a9-b175-4ef2-9eae-e830b59f3975"
      },
      "execution_count": null,
      "outputs": [
        {
          "output_type": "execute_result",
          "data": {
            "text/plain": [
              "<matplotlib.axes._subplots.AxesSubplot at 0x7fc311fab610>"
            ]
          },
          "metadata": {},
          "execution_count": 92
        },
        {
          "output_type": "display_data",
          "data": {
            "image/png": "[encoded data removed]",
            "text/plain": [
              "<Figure size 576x432 with 2 Axes>"
            ]
          },
          "metadata": {
            "needs_background": "light"
          }
        }
      ]
    },
    {
      "cell_type": "markdown",
      "source": [
        "## Random forest"
      ],
      "metadata": {
        "id": "3J7ib1kYCN33"
      }
    },
    {
      "cell_type": "code",
      "source": [
        "tfidf_params = dict(sublinear_tf= True, \n",
        "                       min_df = 4, \n",
        "                       norm= 'l2', \n",
        "                       ngram_range= (1,7),\n",
        "                       tokenizer= word_tokenize)\n",
        "\n",
        "classifier = RandomForestClassifier(n_estimators=500)\n",
        "\n",
        "rdf = Pipeline(steps=[\n",
        "  ('features', TfidfVectorizer(**tfidf_params)),\n",
        "  ('model', classifier)\n",
        "])\n",
        "\n",
        "rdf.fit(X_train, y_train)\n",
        "y_pred_rf = rdf.predict(X_test)\n",
        "metrics(y_test, y_pred_rf)"
      ],
      "metadata": {
        "colab": {
          "base_uri": "https://localhost:8080/"
        },
        "id": "ueDf_yheCNE_",
        "outputId": "f5ff801d-83b8-404a-d62d-24594bff8120"
      },
      "execution_count": null,
      "outputs": [
        {
          "output_type": "stream",
          "name": "stdout",
          "text": [
            "Precision: 0.4395977664429535\n",
            "Recall: 0.43435429431197264\n",
            "F1: 0.43696030068173775\n",
            "Accuracy: 0.4322916666666667\n"
          ]
        }
      ]
    },
    {
      "cell_type": "code",
      "source": [
        "param_grid = { \n",
        "    'n_estimators': [100, 200, 300, 400, 500],\n",
        "    'max_features': ['auto', 'sqrt', 'log2'],\n",
        "    'max_depth' : [4,5,6,7,8],\n",
        "    'criterion' :['gini', 'entropy']\n",
        "}\n",
        "\n",
        "rdf2 = Pipeline(steps=[\n",
        "  ('features', TfidfVectorizer(**tfidf_params)),\n",
        "  ('model', GridSearchCV(estimator=classifier, param_grid=param_grid, cv= 5))\n",
        "])\n",
        "\n",
        "rdf2.fit(X_train, y_train)\n",
        "y_pred_rdf2 = rdf2.predict(X_test)\n",
        "metrics(y_test, y_pred_rdf2)"
      ],
      "metadata": {
        "colab": {
          "base_uri": "https://localhost:8080/"
        },
        "id": "a42dVvesCeHx",
        "outputId": "c88d8aa8-085c-4115-cf76-dbf39b788e0a"
      },
      "execution_count": null,
      "outputs": [
        {
          "output_type": "stream",
          "name": "stdout",
          "text": [
            "Precision: 0.38372919578427855\n",
            "Recall: 0.3732339405893779\n",
            "F1: 0.37840881009841343\n",
            "Accuracy: 0.371875\n"
          ]
        }
      ]
    },
    {
      "cell_type": "code",
      "source": [
        "plt.figure(figsize=(8,6))\n",
        "sns.heatmap(pd.DataFrame(confusion_matrix(y_test, y_pred_rdf2)), annot=True, cmap='PuRd', fmt='.4g')"
      ],
      "metadata": {
        "colab": {
          "base_uri": "https://localhost:8080/",
          "height": 391
        },
        "id": "U2oKK0jYGIci",
        "outputId": "5a0f78d9-ff7d-4956-bc4b-138fd2d5c849"
      },
      "execution_count": null,
      "outputs": [
        {
          "output_type": "execute_result",
          "data": {
            "text/plain": [
              "<matplotlib.axes._subplots.AxesSubplot at 0x7fc311040450>"
            ]
          },
          "metadata": {},
          "execution_count": 93
        },
        {
          "output_type": "display_data",
          "data": {
            "image/png": "[encoded data removed]",
            "text/plain": [
              "<Figure size 576x432 with 2 Axes>"
            ]
          },
          "metadata": {
            "needs_background": "light"
          }
        }
      ]
    },
    {
      "cell_type": "markdown",
      "source": [
        "# What we did to improve those models"
      ],
      "metadata": {
        "id": "dVgLUauoImkO"
      }
    },
    {
      "cell_type": "markdown",
      "source": [
        "## Preprocess\n",
        "\n",
        "- remove punctuation\n",
        "- remove stopwords\n",
        "- remove X most/least frequent words\n",
        "- stemming\n"
      ],
      "metadata": {
        "id": "opRGO99pIre_"
      }
    },
    {
      "cell_type": "code",
      "source": [
        "# Set to lowercase\n",
        "train_df['sentence'] = train_df['sentence'].str.lower()"
      ],
      "metadata": {
        "id": "cwCTjqbgLVzR"
      },
      "execution_count": null,
      "outputs": []
    },
    {
      "cell_type": "code",
      "source": [
        "#Replace ' with a space so we can separate c'est, m'y, n'étant etc...\n",
        "train_df = train_df.replace(\"'\", \" \", regex=True)\n",
        "train_df = train_df.replace(\"-\", \" \", regex=True)\n",
        "\n",
        "#Remove punctuation\n",
        "PUNCT = string.punctuation\n",
        "def remove_punctuation(text):\n",
        "    return text.translate(str.maketrans('', '', PUNCT))\n",
        "train_df['sentence'] = train_df['sentence'].apply(lambda text: remove_punctuation(text))"
      ],
      "metadata": {
        "id": "PSZiXPLxLpIB"
      },
      "execution_count": null,
      "outputs": []
    },
    {
      "cell_type": "code",
      "source": [
        "# Get stopwords list\n",
        "nltk.download('stopwords')\n",
        "\", \".join(stopwords.words('french'))\n",
        "stop = stopwords.words('french')"
      ],
      "metadata": {
        "id": "R1z4qBJoLtfw"
      },
      "execution_count": null,
      "outputs": []
    },
    {
      "cell_type": "code",
      "source": [
        "# Remove stopwords\n",
        "train_df['sentence'] = train_df['sentence'].apply(lambda x: ' '.join([word for word in x.split() if word not in (stop)]))"
      ],
      "metadata": {
        "id": "o3T11v3kLzmQ"
      },
      "execution_count": null,
      "outputs": []
    },
    {
      "cell_type": "code",
      "source": [
        "from collections import Counter\n",
        "cnt = Counter()\n",
        "for text in train_df[\"sentence\"].values:\n",
        "    for word in text.split():\n",
        "        cnt[word] += 1 \n",
        "cnt.most_common(10)"
      ],
      "metadata": {
        "id": "6oHzNslYL3pm"
      },
      "execution_count": null,
      "outputs": []
    },
    {
      "cell_type": "code",
      "source": [
        "# Create new column without X frequent words\n",
        "FREQWORDS = set([w for (w, wc) in cnt.most_common(10)])\n",
        "def remove_freqwords(text):\n",
        "    return \" \".join([word for word in str(text).split() if word not in FREQWORDS])\n",
        "train_df[\"sent_10frequentwords\"] = train_df[\"sentence\"].apply(lambda text: remove_freqwords(text))"
      ],
      "metadata": {
        "id": "tYYaXMPJL72a"
      },
      "execution_count": null,
      "outputs": []
    },
    {
      "cell_type": "code",
      "source": [
        "# Similarly we can remove X rare words \n",
        "rare_words = 10\n",
        "RAREWORDS = set([w for (w, wc) in cnt.most_common()[:-n_rare_words-1:-1]])\n",
        "def remove_rarewords(text):\n",
        "   return \" \".join([word for word in str(text).split() if word not in RAREWORDS])\n",
        "train_df['sent_10rarewords'] = train_df['sentence'].apply(lambda text: remove_rarewords(text))\n"
      ],
      "metadata": {
        "id": "2ZxGrkuAMC-b"
      },
      "execution_count": null,
      "outputs": []
    },
    {
      "cell_type": "code",
      "source": [
        "from nltk import word_tokenize\n",
        "nltk.download('punkt')\n",
        "\n",
        "train_df['sent_token'] = train_df['sentence'].apply(lambda X: word_tokenize(X))"
      ],
      "metadata": {
        "colab": {
          "base_uri": "https://localhost:8080/"
        },
        "id": "Hea_-f-eMVcq",
        "outputId": "7ae9f162-4440-456b-dda2-aeee765818b9"
      },
      "execution_count": null,
      "outputs": [
        {
          "output_type": "stream",
          "name": "stdout",
          "text": [
            "[nltk_data] Downloading package punkt to /root/nltk_data...\n",
            "[nltk_data]   Package punkt is already up-to-date!\n"
          ]
        }
      ]
    },
    {
      "cell_type": "code",
      "source": [
        "from nltk.stem.snowball import FrenchStemmer\n",
        "\n",
        "stemmer = FrenchStemmer()\n",
        "train_df['sent_stemmed'] = train_df['sent_token'].apply(lambda x: [stemmer.stem(y) for y in x])"
      ],
      "metadata": {
        "id": "wYTULvLKMfS8"
      },
      "execution_count": null,
      "outputs": []
    },
    {
      "cell_type": "code",
      "source": [
        "# REMOVE NUMBERS from the new list of stemmed token. We should also try with sent_token (not stemmed)\n",
        "col = 'sent_stemmed'\n",
        "train_df[col] = (\n",
        "    train_df[col]\n",
        "    .explode()\n",
        "    .str.replace(\"\\d+\", \"NUM\", regex=True)\n",
        "    .groupby(level=0)\n",
        "    .agg(list)\n",
        ")"
      ],
      "metadata": {
        "id": "OFWgeGmUMqar"
      },
      "execution_count": null,
      "outputs": []
    },
    {
      "cell_type": "markdown",
      "source": [
        "## One-hot encoding of the label variable"
      ],
      "metadata": {
        "id": "3qV8lTlRI2WE"
      }
    },
    {
      "cell_type": "code",
      "source": [
        "train_df['difficulty'] = [0 if x=='A1' \n",
        "                   else 1 if x=='A2'\n",
        "                   else 2 if x=='B1'\n",
        "                   else 3 if x=='B2'\n",
        "                   else 4 if x=='C1'\n",
        "                   else 5 for x in train_df.difficulty]\n",
        "train_df['difficulty'].value_counts()"
      ],
      "metadata": {
        "id": "tQHPQvRnKp0g"
      },
      "execution_count": null,
      "outputs": []
    },
    {
      "cell_type": "markdown",
      "source": [
        "## Dimentionality reduction (SVD)"
      ],
      "metadata": {
        "id": "m4Pgg3pAI-co"
      }
    },
    {
      "cell_type": "code",
      "source": [
        "from sklearn.feature_extraction.text import CountVectorizer\n",
        "\n",
        "X = train_df.sentence\n",
        "y = train_df.difficulty\n",
        "X_train, X_test, y_train, y_test = train_test_split(X, y, \n",
        "                                                    test_size=0.2, \n",
        "                                                    random_state=0)\n",
        "\n",
        "vectorizer = CountVectorizer()\n",
        "X_train = vectorizer.fit_transform(X_train)\n",
        "X_test = vectorizer.transform(X_test)"
      ],
      "metadata": {
        "id": "PRYsv7kMNklp"
      },
      "execution_count": null,
      "outputs": []
    },
    {
      "cell_type": "code",
      "source": [
        "from sklearn.preprocessing import MaxAbsScaler\n",
        "scaler = MaxAbsScaler()\n",
        "X_train_rescaled = scaler.fit_transform(X_train)\n",
        "X_test_rescaled = scaler.transform(X_test)"
      ],
      "metadata": {
        "id": "Od0PtwwWKDcC"
      },
      "execution_count": null,
      "outputs": []
    },
    {
      "cell_type": "code",
      "source": [
        "from sklearn.decomposition import TruncatedSVD\n",
        "svd = TruncatedSVD(n_components=900, random_state=0)"
      ],
      "metadata": {
        "id": "7SFpZ-6OKEP8"
      },
      "execution_count": null,
      "outputs": []
    },
    {
      "cell_type": "code",
      "source": [
        "# Truncated SVD with CountVectorizer + MaxAbsScaler()\n",
        "\n",
        "pipe = Pipeline([('svd', svd), \n",
        "                 ('logistic', LogisticRegression(random_state=0, \n",
        "                                                 solver='lbfgs', \n",
        "                                                 max_iter=300))])\n",
        "\n",
        "pipe.fit(X_train_rescaled, y_train)\n",
        "y_pred_pca = pipe.predict(X_test_rescaled)\n",
        "metrics(y_test, y_pred_pca)"
      ],
      "metadata": {
        "colab": {
          "base_uri": "https://localhost:8080/"
        },
        "id": "glppcxZBR4Wf",
        "outputId": "4f5f8187-608d-40ea-9a59-11e1eff218e0"
      },
      "execution_count": null,
      "outputs": [
        {
          "output_type": "stream",
          "name": "stdout",
          "text": [
            "Precision: 0.43595794084222256\n",
            "Recall: 0.4349100758653337\n",
            "F1: 0.43543337793620124\n",
            "Accuracy: 0.43333333333333335\n"
          ]
        }
      ]
    },
    {
      "cell_type": "code",
      "source": [
        "# Truncated SVD with TF-IDF\n",
        "tfidf_params = dict(sublinear_tf= True, \n",
        "                       min_df = 1, \n",
        "                       norm= 'l2', \n",
        "                       ngram_range= (1,1),\n",
        "                       lowercase=True,\n",
        "                       tokenizer=word_tokenize)\n",
        "\n",
        "clf_logreg_svd = Pipeline(steps=[\n",
        "  ('features', TfidfVectorizer(**tfidf_params)),\n",
        "  ('svd', svd),\n",
        "  ('model', LogisticRegression(random_state=0, solver='lbfgs', max_iter=300))\n",
        "])\n",
        "\n",
        "clf_logreg_svd.fit(X_train, y_train)\n",
        "\n",
        "y_pred_log_svd = clf_logreg_svd.predict(X_test)\n",
        "metrics(y_test, y_pred_log_svd)"
      ],
      "metadata": {
        "colab": {
          "base_uri": "https://localhost:8080/"
        },
        "id": "2dpp8M7qTjO7",
        "outputId": "fc9fee44-0fbb-4c56-aa13-28bb1c058648"
      },
      "execution_count": null,
      "outputs": [
        {
          "output_type": "stream",
          "name": "stdout",
          "text": [
            "Precision: 0.4781840924118071\n",
            "Recall: 0.48100479763079035\n",
            "F1: 0.4795902975702518\n",
            "Accuracy: 0.48020833333333335\n"
          ]
        }
      ]
    },
    {
      "cell_type": "markdown",
      "source": [
        "## MultinomialNB"
      ],
      "metadata": {
        "id": "O4RORA0MVoHS"
      }
    },
    {
      "cell_type": "code",
      "source": [
        "from sklearn.naive_bayes import MultinomialNB\n",
        "\n",
        "tfidf_params = dict(sublinear_tf= True, \n",
        "                       min_df = 4, \n",
        "                       norm= 'l2', \n",
        "                       ngram_range= (1,4),\n",
        "                       tokenizer= word_tokenize)\n",
        "nb1 = Pipeline([\n",
        "    ('vect', CountVectorizer()),\n",
        "    ('clf', MultinomialNB()),\n",
        "])\n",
        "\n",
        "nb2 = Pipeline([\n",
        "    ('vect', TfidfVectorizer(**tfidf_params)),\n",
        "    ('clf', MultinomialNB()),\n",
        "])\n",
        "\n",
        "nb1.fit(X_train, y_train)\n",
        "y_pred_nb1 = nb1.predict(X_test)\n",
        "metrics(y_test, y_pred_nb1)"
      ],
      "metadata": {
        "colab": {
          "base_uri": "https://localhost:8080/"
        },
        "id": "MTYSyJfUWl0R",
        "outputId": "15c4f91f-c51f-4929-99c5-9dcc32fcc996"
      },
      "execution_count": null,
      "outputs": [
        {
          "output_type": "stream",
          "name": "stdout",
          "text": [
            "Precision: 0.4735956170503406\n",
            "Recall: 0.4291585435934539\n",
            "F1: 0.45028339746586665\n",
            "Accuracy: 0.42916666666666664\n"
          ]
        }
      ]
    },
    {
      "cell_type": "code",
      "source": [
        "nb2.fit(X_train, y_train)\n",
        "y_pred_nb2 = nb2.predict(X_test)\n",
        "metrics(y_test, y_pred_nb2)"
      ],
      "metadata": {
        "colab": {
          "base_uri": "https://localhost:8080/"
        },
        "id": "PbkulOqXXDxf",
        "outputId": "d4fe3164-54b8-48a7-9a09-aed7420438f1"
      },
      "execution_count": null,
      "outputs": [
        {
          "output_type": "stream",
          "name": "stdout",
          "text": [
            "Precision: 0.4522194651013634\n",
            "Recall: 0.44899070753366016\n",
            "F1: 0.4505993024971846\n",
            "Accuracy: 0.4479166666666667\n"
          ]
        }
      ]
    },
    {
      "cell_type": "markdown",
      "source": [
        "## Support Vector Machine"
      ],
      "metadata": {
        "id": "PZ_-NBlUVrc4"
      }
    },
    {
      "cell_type": "code",
      "source": [
        "from sklearn import svm\n",
        "\n",
        "tfidf_params = dict(sublinear_tf= True, \n",
        "                       min_df = 4, \n",
        "                       norm= 'l2', \n",
        "                       ngram_range= (1,4),\n",
        "                       tokenizer= word_tokenize)\n",
        "svm1 = Pipeline([\n",
        "    ('vect', CountVectorizer()),\n",
        "    ('clf', svm.SVC()),\n",
        "])\n",
        "\n",
        "svm2 = Pipeline([\n",
        "    ('vect', TfidfVectorizer(**tfidf_params)),\n",
        "    ('clf', svm.SVC()),\n",
        "])\n",
        "\n",
        "svm1.fit(X_train, y_train)\n",
        "y_pred_svm1 = svm1.predict(X_test)\n",
        "metrics(y_test, y_pred_svm1)"
      ],
      "metadata": {
        "colab": {
          "base_uri": "https://localhost:8080/"
        },
        "id": "VTx-bc68WADr",
        "outputId": "64d1fa01-6e33-4faf-c84c-10b9f74caf93"
      },
      "execution_count": null,
      "outputs": [
        {
          "output_type": "stream",
          "name": "stdout",
          "text": [
            "Precision: 0.4257894797455522\n",
            "Recall: 0.4243528418541098\n",
            "F1: 0.42506994692753064\n",
            "Accuracy: 0.42083333333333334\n"
          ]
        }
      ]
    },
    {
      "cell_type": "code",
      "source": [
        "svm2.fit(X_train, y_train)\n",
        "y_pred_svm2 = svm2.predict(X_test)\n",
        "metrics(y_test, y_pred_svm2)"
      ],
      "metadata": {
        "colab": {
          "base_uri": "https://localhost:8080/"
        },
        "id": "jWXCrxupWKAe",
        "outputId": "f37e58fd-2768-4485-f87b-0f215b4e5623"
      },
      "execution_count": null,
      "outputs": [
        {
          "output_type": "stream",
          "name": "stdout",
          "text": [
            "Precision: 0.47610956920464237\n",
            "Recall: 0.4730529936455696\n",
            "F1: 0.4745763599003251\n",
            "Accuracy: 0.471875\n"
          ]
        }
      ]
    },
    {
      "cell_type": "markdown",
      "source": [
        "## Deep learning: neural networks with Keras \n",
        "See separate notebook.\n",
        "\n",
        "\n"
      ],
      "metadata": {
        "id": "rvrhZC7eJBv6"
      }
    }
  ],
  "metadata": {
    "colab": {
      "name": "models.ipynb",
      "provenance": [],
      "collapsed_sections": [
        "obWyEU9ED5GM",
        "jQzpXKxHIAUy",
        "kqiqUZWHzqYm",
        "KhKZlDucIUU_",
        "K3bNWITwFDp1",
        "cHgyT0LpT2LW",
        "Mbh-t2Dc_fwW",
        "3J7ib1kYCN33",
        "dVgLUauoImkO",
        "opRGO99pIre_",
        "3qV8lTlRI2WE"
      ]
    },
    "kernelspec": {
      "display_name": "Python 3",
      "name": "python3"
    },
    "language_info": {
      "name": "python"
    }
  },
  "nbformat": 4,
  "nbformat_minor": 0
}