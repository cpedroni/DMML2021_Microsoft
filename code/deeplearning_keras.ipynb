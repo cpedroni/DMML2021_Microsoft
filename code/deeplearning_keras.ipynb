{
  "nbformat": 4,
  "nbformat_minor": 0,
  "metadata": {
    "colab": {
      "name": "deeplearning_keras.ipynb",
      "provenance": [],
      "collapsed_sections": [
        "jAy38ukzptPR",
        "Ow093MOYKP3u",
        "NOYPXRVuKUZl",
        "1JWyIuuHKY4F",
        "nFVYqjOaXlyT",
        "iMdbBfDzcgGu"
      ]
    },
    "kernelspec": {
      "name": "python3",
      "display_name": "Python 3"
    },
    "language_info": {
      "name": "python"
    }
  },
  "cells": [
    {
      "cell_type": "markdown",
      "source": [
        "# Multiclass text classification with deep learning: keras library\n",
        "\n",
        "DMML - 2021   \n",
        "Melinda Femminis, Catherine Pedroni, Estelle Valerie Tsague Mbialeu"
      ],
      "metadata": {
        "id": "y_zENDEftvCx"
      }
    },
    {
      "cell_type": "markdown",
      "source": [
        "# Imports\n"
      ],
      "metadata": {
        "id": "jAy38ukzptPR"
      }
    },
    {
      "cell_type": "code",
      "execution_count": null,
      "metadata": {
        "id": "PRmr2KXlwgr2"
      },
      "outputs": [],
      "source": [
        "# Import required packages\n",
        "import pandas as pd\n",
        "import numpy as np\n",
        "import matplotlib.pyplot as plt\n",
        "import seaborn as sns\n",
        "import string"
      ]
    },
    {
      "cell_type": "code",
      "source": [
        "from google.colab import drive\n",
        "drive.mount('drive')"
      ],
      "metadata": {
        "id": "l1h8gwkEw6pO",
        "colab": {
          "base_uri": "https://localhost:8080/"
        },
        "outputId": "c5a81a96-226e-4675-917d-23fe5b8f7672"
      },
      "execution_count": null,
      "outputs": [
        {
          "output_type": "stream",
          "name": "stdout",
          "text": [
            "Mounted at drive\n"
          ]
        }
      ]
    },
    {
      "cell_type": "code",
      "source": [
        "import numpy as np\n",
        "import pandas as pd\n",
        "from plotly.offline import iplot\n",
        "import matplotlib.pyplot as plt\n",
        "import seaborn as sns\n",
        "from tensorflow.keras.preprocessing.text import Tokenizer\n",
        "from tensorflow.keras.preprocessing.sequence import pad_sequences\n",
        "from sklearn.model_selection import train_test_split\n",
        "from tensorflow.keras.models import Sequential\n",
        "from tensorflow.keras.layers import Dense, Embedding, LSTM, SpatialDropout1D\n",
        "from sklearn.model_selection import train_test_split\n",
        "from sklearn.metrics import confusion_matrix\n",
        "from keras.utils.np_utils import to_categorical\n",
        "from tensorflow.keras.callbacks import EarlyStopping\n",
        "from tensorflow.keras.layers import Dropout\n",
        "import re\n",
        "from nltk.corpus import stopwords\n",
        "from nltk import word_tokenize"
      ],
      "metadata": {
        "id": "AWA_trsvwWNY"
      },
      "execution_count": null,
      "outputs": []
    },
    {
      "cell_type": "code",
      "source": [
        "df = pd.read_csv('https://raw.githubusercontent.com/cpedroni/DMML2021_Microsoft/main/data/training_data.csv')\n",
        "to_predict = pd.read_csv('https://raw.githubusercontent.com/cpedroni/DMML2021_Microsoft/main/data/unlabelled_test_data.csv')"
      ],
      "metadata": {
        "id": "0KeMRtrfwrgo"
      },
      "execution_count": null,
      "outputs": []
    },
    {
      "cell_type": "code",
      "source": [
        "df.head()"
      ],
      "metadata": {
        "id": "SIn2s1SQJkIK"
      },
      "execution_count": null,
      "outputs": []
    },
    {
      "cell_type": "markdown",
      "source": [
        "# Get data ready for model"
      ],
      "metadata": {
        "id": "Ow093MOYKP3u"
      }
    },
    {
      "cell_type": "code",
      "source": [
        "values = df['sentence']\n",
        "target = df['difficulty']"
      ],
      "metadata": {
        "id": "LniqSfY9ljUt"
      },
      "execution_count": null,
      "outputs": []
    },
    {
      "cell_type": "code",
      "source": [
        "MAX_NB_WORDS = 20000\n",
        "MAX_SEQUENCE_LENGTH = 250\n",
        "EMBEDDING_DIM = 100\n",
        "\n",
        "tokenizer = Tokenizer(num_words=MAX_NB_WORDS, filters='!\"#$%&()*+,-./:;<=>?@[\\]^_`{|}~', lower=True)\n",
        "tokenizer.fit_on_texts(values.values)\n",
        "word_index = tokenizer.word_index\n",
        "print('Found %s unique tokens.' % len(word_index))"
      ],
      "metadata": {
        "id": "bdJ_Z_kolR0I",
        "outputId": "85321ed9-a5ad-4ca5-d7c4-7328f6c41b62",
        "colab": {
          "base_uri": "https://localhost:8080/"
        }
      },
      "execution_count": null,
      "outputs": [
        {
          "output_type": "stream",
          "name": "stdout",
          "text": [
            "Found 15576 unique tokens.\n"
          ]
        }
      ]
    },
    {
      "cell_type": "code",
      "source": [
        "X = tokenizer.texts_to_sequences(values.values)\n",
        "X = pad_sequences(X, maxlen=MAX_SEQUENCE_LENGTH)\n",
        "print('Shape of data tensor:', X.shape)"
      ],
      "metadata": {
        "id": "8X_uEK4flVQ7",
        "outputId": "15da38ce-699a-4a47-b91d-0bf2d30c60d2",
        "colab": {
          "base_uri": "https://localhost:8080/"
        }
      },
      "execution_count": null,
      "outputs": [
        {
          "output_type": "stream",
          "name": "stdout",
          "text": [
            "Shape of data tensor: (4800, 250)\n"
          ]
        }
      ]
    },
    {
      "cell_type": "code",
      "source": [
        "Y = pd.get_dummies(target).values\n",
        "print('Shape of label tensor:', Y.shape)"
      ],
      "metadata": {
        "id": "FCvOHHqflYTF",
        "outputId": "32fb1d51-330f-4236-816e-b90cd037dc2e",
        "colab": {
          "base_uri": "https://localhost:8080/"
        }
      },
      "execution_count": null,
      "outputs": [
        {
          "output_type": "stream",
          "name": "stdout",
          "text": [
            "Shape of label tensor: (4800, 6)\n"
          ]
        }
      ]
    },
    {
      "cell_type": "code",
      "source": [
        "X_train, X_test, y_train, y_test = train_test_split(X, y, test_size = 0.2, random_state = 0)\n",
        "print(\"X and y training data:\")\n",
        "print(X_train.shape, y_train.shape)\n",
        "print(\"X and y testing data:\")\n",
        "print(X_test.shape, y_test.shape)"
      ],
      "metadata": {
        "id": "Zxpo-apljzgK",
        "outputId": "802274bd-16e5-4c60-ab78-e0a61f53029f",
        "colab": {
          "base_uri": "https://localhost:8080/"
        }
      },
      "execution_count": null,
      "outputs": [
        {
          "output_type": "stream",
          "name": "stdout",
          "text": [
            "X and y training data:\n",
            "(3840, 250) (3840, 6)\n",
            "X and y testing data:\n",
            "(960, 250) (960, 6)\n"
          ]
        }
      ]
    },
    {
      "cell_type": "markdown",
      "source": [
        "# Model"
      ],
      "metadata": {
        "id": "NOYPXRVuKUZl"
      }
    },
    {
      "cell_type": "code",
      "source": [
        "model = Sequential()\n",
        "model.add(Embedding(MAX_NB_WORDS, EMBEDDING_DIM, input_length=X.shape[1]))\n",
        "model.add(SpatialDropout1D(0.2))\n",
        "model.add(LSTM(100, dropout=0.2, recurrent_dropout=0.2))\n",
        "model.add(Dense(6, activation='softmax'))\n",
        "model.compile(loss='categorical_crossentropy', optimizer='adam', metrics=['accuracy'])\n",
        "print(model.summary())"
      ],
      "metadata": {
        "colab": {
          "base_uri": "https://localhost:8080/"
        },
        "id": "0KpZpqBy5pGD",
        "outputId": "4f802ab0-21be-4ab9-b76d-5d022cc068cd"
      },
      "execution_count": null,
      "outputs": [
        {
          "output_type": "stream",
          "name": "stdout",
          "text": [
            "Model: \"sequential_1\"\n",
            "_________________________________________________________________\n",
            " Layer (type)                Output Shape              Param #   \n",
            "=================================================================\n",
            " embedding (Embedding)       (None, 250, 100)          2000000   \n",
            "                                                                 \n",
            " spatial_dropout1d (SpatialD  (None, 250, 100)         0         \n",
            " ropout1D)                                                       \n",
            "                                                                 \n",
            " lstm (LSTM)                 (None, 100)               80400     \n",
            "                                                                 \n",
            " dense (Dense)               (None, 6)                 606       \n",
            "                                                                 \n",
            "=================================================================\n",
            "Total params: 2,081,006\n",
            "Trainable params: 2,081,006\n",
            "Non-trainable params: 0\n",
            "_________________________________________________________________\n",
            "None\n"
          ]
        }
      ]
    },
    {
      "cell_type": "code",
      "source": [
        "history = model.fit(X_train, y_train, epochs = 50, batch_size = 128, validation_split=0.1)"
      ],
      "metadata": {
        "colab": {
          "base_uri": "https://localhost:8080/"
        },
        "id": "cAHPlY_n6b_W",
        "outputId": "63587b27-9e49-4efa-9d1b-05791ddd7fcc"
      },
      "execution_count": null,
      "outputs": [
        {
          "output_type": "stream",
          "name": "stdout",
          "text": [
            "Epoch 1/50\n",
            "27/27 [==============================] - 60s 2s/step - loss: 1.7093 - accuracy: 0.2627 - val_loss: 1.5745 - val_accuracy: 0.3281\n",
            "Epoch 2/50\n",
            "27/27 [==============================] - 48s 2s/step - loss: 1.4890 - accuracy: 0.3646 - val_loss: 1.4507 - val_accuracy: 0.3594\n",
            "Epoch 3/50\n",
            "27/27 [==============================] - 29s 1s/step - loss: 1.3286 - accuracy: 0.4349 - val_loss: 1.3399 - val_accuracy: 0.3802\n",
            "Epoch 4/50\n",
            "27/27 [==============================] - 28s 1s/step - loss: 1.1126 - accuracy: 0.5408 - val_loss: 1.2821 - val_accuracy: 0.4323\n",
            "Epoch 5/50\n",
            "27/27 [==============================] - 29s 1s/step - loss: 0.8779 - accuracy: 0.6615 - val_loss: 1.3084 - val_accuracy: 0.4167\n",
            "Epoch 6/50\n",
            "27/27 [==============================] - 30s 1s/step - loss: 0.6889 - accuracy: 0.7567 - val_loss: 1.4352 - val_accuracy: 0.4245\n",
            "Epoch 7/50\n",
            "27/27 [==============================] - 30s 1s/step - loss: 0.4941 - accuracy: 0.8377 - val_loss: 1.6851 - val_accuracy: 0.3906\n",
            "Epoch 8/50\n",
            "27/27 [==============================] - 28s 1s/step - loss: 0.3647 - accuracy: 0.8909 - val_loss: 1.8155 - val_accuracy: 0.4271\n",
            "Epoch 9/50\n",
            "27/27 [==============================] - 29s 1s/step - loss: 0.2466 - accuracy: 0.9236 - val_loss: 2.0635 - val_accuracy: 0.4010\n",
            "Epoch 10/50\n",
            "27/27 [==============================] - 28s 1s/step - loss: 0.1878 - accuracy: 0.9439 - val_loss: 2.1316 - val_accuracy: 0.4062\n",
            "Epoch 11/50\n",
            "27/27 [==============================] - 30s 1s/step - loss: 0.1576 - accuracy: 0.9534 - val_loss: 2.1694 - val_accuracy: 0.4453\n",
            "Epoch 12/50\n",
            "27/27 [==============================] - 28s 1s/step - loss: 0.1278 - accuracy: 0.9656 - val_loss: 2.4539 - val_accuracy: 0.4141\n",
            "Epoch 13/50\n",
            "27/27 [==============================] - 29s 1s/step - loss: 0.1037 - accuracy: 0.9722 - val_loss: 2.4365 - val_accuracy: 0.4297\n",
            "Epoch 14/50\n",
            "27/27 [==============================] - 28s 1s/step - loss: 0.0854 - accuracy: 0.9757 - val_loss: 2.4489 - val_accuracy: 0.4297\n",
            "Epoch 15/50\n",
            "27/27 [==============================] - 28s 1s/step - loss: 0.0721 - accuracy: 0.9809 - val_loss: 2.6130 - val_accuracy: 0.4010\n",
            "Epoch 16/50\n",
            "27/27 [==============================] - 28s 1s/step - loss: 0.0630 - accuracy: 0.9847 - val_loss: 2.6047 - val_accuracy: 0.4349\n",
            "Epoch 17/50\n",
            "27/27 [==============================] - 28s 1s/step - loss: 0.0614 - accuracy: 0.9838 - val_loss: 2.6569 - val_accuracy: 0.4062\n",
            "Epoch 18/50\n",
            "27/27 [==============================] - 28s 1s/step - loss: 0.0473 - accuracy: 0.9867 - val_loss: 2.7258 - val_accuracy: 0.4167\n",
            "Epoch 19/50\n",
            "27/27 [==============================] - 29s 1s/step - loss: 0.0468 - accuracy: 0.9841 - val_loss: 2.8056 - val_accuracy: 0.4323\n",
            "Epoch 20/50\n",
            "27/27 [==============================] - 29s 1s/step - loss: 0.0378 - accuracy: 0.9907 - val_loss: 3.2563 - val_accuracy: 0.4089\n",
            "Epoch 21/50\n",
            "27/27 [==============================] - 29s 1s/step - loss: 0.0398 - accuracy: 0.9884 - val_loss: 2.9753 - val_accuracy: 0.3958\n",
            "Epoch 22/50\n",
            "27/27 [==============================] - 28s 1s/step - loss: 0.0329 - accuracy: 0.9907 - val_loss: 3.2449 - val_accuracy: 0.4036\n",
            "Epoch 23/50\n",
            "27/27 [==============================] - 28s 1s/step - loss: 0.0332 - accuracy: 0.9896 - val_loss: 2.6143 - val_accuracy: 0.4193\n",
            "Epoch 24/50\n",
            "27/27 [==============================] - 28s 1s/step - loss: 0.0277 - accuracy: 0.9922 - val_loss: 3.1761 - val_accuracy: 0.4245\n",
            "Epoch 25/50\n",
            "27/27 [==============================] - 29s 1s/step - loss: 0.0234 - accuracy: 0.9959 - val_loss: 3.1820 - val_accuracy: 0.4062\n",
            "Epoch 26/50\n",
            "27/27 [==============================] - 28s 1s/step - loss: 0.0261 - accuracy: 0.9916 - val_loss: 2.8233 - val_accuracy: 0.4167\n",
            "Epoch 27/50\n",
            "27/27 [==============================] - 28s 1s/step - loss: 0.0215 - accuracy: 0.9951 - val_loss: 2.8681 - val_accuracy: 0.4089\n",
            "Epoch 28/50\n",
            "27/27 [==============================] - 29s 1s/step - loss: 0.0196 - accuracy: 0.9942 - val_loss: 2.9982 - val_accuracy: 0.4167\n",
            "Epoch 29/50\n",
            "27/27 [==============================] - 28s 1s/step - loss: 0.0197 - accuracy: 0.9957 - val_loss: 3.2357 - val_accuracy: 0.4115\n",
            "Epoch 30/50\n",
            "27/27 [==============================] - 28s 1s/step - loss: 0.0275 - accuracy: 0.9928 - val_loss: 2.9835 - val_accuracy: 0.4193\n",
            "Epoch 31/50\n",
            "27/27 [==============================] - 29s 1s/step - loss: 0.0185 - accuracy: 0.9945 - val_loss: 3.1423 - val_accuracy: 0.4167\n",
            "Epoch 32/50\n",
            "27/27 [==============================] - 29s 1s/step - loss: 0.0220 - accuracy: 0.9919 - val_loss: 3.2743 - val_accuracy: 0.4219\n",
            "Epoch 33/50\n",
            "27/27 [==============================] - 29s 1s/step - loss: 0.0171 - accuracy: 0.9945 - val_loss: 3.3296 - val_accuracy: 0.4062\n",
            "Epoch 34/50\n",
            "27/27 [==============================] - 28s 1s/step - loss: 0.0171 - accuracy: 0.9945 - val_loss: 3.3824 - val_accuracy: 0.4062\n",
            "Epoch 35/50\n",
            "27/27 [==============================] - 29s 1s/step - loss: 0.0153 - accuracy: 0.9957 - val_loss: 3.5240 - val_accuracy: 0.4167\n",
            "Epoch 36/50\n",
            "27/27 [==============================] - 28s 1s/step - loss: 0.0148 - accuracy: 0.9957 - val_loss: 2.9672 - val_accuracy: 0.4453\n",
            "Epoch 37/50\n",
            "27/27 [==============================] - 28s 1s/step - loss: 0.0107 - accuracy: 0.9971 - val_loss: 3.2319 - val_accuracy: 0.4401\n",
            "Epoch 38/50\n",
            "27/27 [==============================] - 28s 1s/step - loss: 0.0116 - accuracy: 0.9962 - val_loss: 3.2280 - val_accuracy: 0.4271\n",
            "Epoch 39/50\n",
            "27/27 [==============================] - 28s 1s/step - loss: 0.0142 - accuracy: 0.9959 - val_loss: 3.3065 - val_accuracy: 0.4219\n",
            "Epoch 40/50\n",
            "27/27 [==============================] - 28s 1s/step - loss: 0.0127 - accuracy: 0.9948 - val_loss: 3.3961 - val_accuracy: 0.4219\n",
            "Epoch 41/50\n",
            "27/27 [==============================] - 29s 1s/step - loss: 0.0134 - accuracy: 0.9954 - val_loss: 2.8234 - val_accuracy: 0.4089\n",
            "Epoch 42/50\n",
            "27/27 [==============================] - 29s 1s/step - loss: 0.0167 - accuracy: 0.9959 - val_loss: 3.3486 - val_accuracy: 0.4089\n",
            "Epoch 43/50\n",
            "27/27 [==============================] - 29s 1s/step - loss: 0.0143 - accuracy: 0.9957 - val_loss: 2.9114 - val_accuracy: 0.4349\n",
            "Epoch 44/50\n",
            "27/27 [==============================] - 29s 1s/step - loss: 0.0142 - accuracy: 0.9948 - val_loss: 3.1054 - val_accuracy: 0.4245\n",
            "Epoch 45/50\n",
            "27/27 [==============================] - 29s 1s/step - loss: 0.0130 - accuracy: 0.9957 - val_loss: 3.0667 - val_accuracy: 0.4531\n",
            "Epoch 46/50\n",
            "27/27 [==============================] - 28s 1s/step - loss: 0.0122 - accuracy: 0.9959 - val_loss: 3.1907 - val_accuracy: 0.4167\n",
            "Epoch 47/50\n",
            "27/27 [==============================] - 28s 1s/step - loss: 0.0111 - accuracy: 0.9962 - val_loss: 3.1941 - val_accuracy: 0.4271\n",
            "Epoch 48/50\n",
            "27/27 [==============================] - 28s 1s/step - loss: 0.0108 - accuracy: 0.9962 - val_loss: 3.3655 - val_accuracy: 0.4297\n",
            "Epoch 49/50\n",
            "27/27 [==============================] - 28s 1s/step - loss: 0.0084 - accuracy: 0.9971 - val_loss: 3.4592 - val_accuracy: 0.4297\n",
            "Epoch 50/50\n",
            "27/27 [==============================] - 29s 1s/step - loss: 0.0053 - accuracy: 0.9983 - val_loss: 3.4887 - val_accuracy: 0.4219\n"
          ]
        }
      ]
    },
    {
      "cell_type": "markdown",
      "source": [
        "# Accuracy and plots"
      ],
      "metadata": {
        "id": "1JWyIuuHKY4F"
      }
    },
    {
      "cell_type": "code",
      "source": [
        "loss, accuracy = model.evaluate(X_train, y_train, verbose=False)\n",
        "print(\"Training Accuracy: {:.4f}\".format(accuracy))\n",
        "loss, accuracy = model.evaluate(X_test, y_test, verbose=False)\n",
        "print(\"Testing Accuracy:  {:.4f}\".format(accuracy))"
      ],
      "metadata": {
        "colab": {
          "base_uri": "https://localhost:8080/"
        },
        "id": "fiylCCNQ_2bh",
        "outputId": "837594a0-16d3-4a87-df6c-ca4112cb99d0"
      },
      "execution_count": null,
      "outputs": [
        {
          "output_type": "stream",
          "name": "stdout",
          "text": [
            "Training Accuracy: 0.9411\n",
            "Testing Accuracy:  0.4396\n"
          ]
        }
      ]
    },
    {
      "cell_type": "code",
      "source": [
        "# summarize history for accuracy\n",
        "plt.plot(history.history['accuracy'])\n",
        "plt.plot(history.history['val_accuracy'])\n",
        "plt.title('model accuracy')\n",
        "plt.ylabel('accuracy')\n",
        "plt.xlabel('epoch')\n",
        "plt.legend(['train', 'test'], loc='upper left')\n",
        "plt.show()\n",
        "# summarize history for loss\n",
        "plt.plot(history.history['loss'])\n",
        "plt.plot(history.history['val_loss'])\n",
        "plt.title('model loss')\n",
        "plt.ylabel('loss')\n",
        "plt.xlabel('epoch')\n",
        "plt.legend(['train', 'test'], loc='upper left')\n",
        "plt.show()"
      ],
      "metadata": {
        "colab": {
          "base_uri": "https://localhost:8080/",
          "height": 573
        },
        "id": "coq5SgkrOO6g",
        "outputId": "ba08cbc8-f3ce-4eeb-c0cf-d79928e3d4f1"
      },
      "execution_count": null,
      "outputs": [
        {
          "output_type": "display_data",
          "data": {
            "image/png": "[encoded data removed]",
            "text/plain": [
              "<Figure size 432x288 with 1 Axes>"
            ]
          },
          "metadata": {
            "needs_background": "light"
          }
        },
        {
          "output_type": "display_data",
          "data": {
            "image/png": "[encoded data removed]",
            "text/plain": [
              "<Figure size 432x288 with 1 Axes>"
            ]
          },
          "metadata": {
            "needs_background": "light"
          }
        }
      ]
    },
    {
      "cell_type": "markdown",
      "source": [
        "# Metrics on test data"
      ],
      "metadata": {
        "id": "nFVYqjOaXlyT"
      }
    },
    {
      "cell_type": "code",
      "source": [
        "predicted = model.predict(X_test)\n",
        "# Convert vectors back to classes\n",
        "predicted = np.argmax(predicted, axis=1)\n",
        "test_labels = np.argmax(y_test, axis=1)"
      ],
      "metadata": {
        "id": "4eE5GIhgaXFG"
      },
      "execution_count": null,
      "outputs": []
    },
    {
      "cell_type": "code",
      "source": [
        "plt.figure(figsize=(8,6))\n",
        "plt.title(\"Confusion matrix of sequential model, 50 epoch and batch size 128\")\n",
        "sns.heatmap(pd.DataFrame(confusion_matrix(test_labels, predicted)), annot=True, cmap='Greens', fmt='.4g')"
      ],
      "metadata": {
        "colab": {
          "base_uri": "https://localhost:8080/",
          "height": 407
        },
        "id": "DJnpW1FYa_Kd",
        "outputId": "990434d1-4282-4b9d-a815-6a6356ffe93b"
      },
      "execution_count": null,
      "outputs": [
        {
          "output_type": "execute_result",
          "data": {
            "text/plain": [
              "<matplotlib.axes._subplots.AxesSubplot at 0x7f7a271418d0>"
            ]
          },
          "metadata": {},
          "execution_count": 40
        },
        {
          "output_type": "display_data",
          "data": {
            "image/png": "[encoded data removed]",
            "text/plain": [
              "<Figure size 576x432 with 2 Axes>"
            ]
          },
          "metadata": {
            "needs_background": "light"
          }
        }
      ]
    },
    {
      "cell_type": "code",
      "source": [
        "from sklearn.metrics import classification_report\n",
        "print(classification_report(test_labels, predicted))"
      ],
      "metadata": {
        "colab": {
          "base_uri": "https://localhost:8080/"
        },
        "id": "TkpK-Bk6b11T",
        "outputId": "ef7701ba-93df-4ce6-ea07-80eb902a2d58"
      },
      "execution_count": null,
      "outputs": [
        {
          "output_type": "stream",
          "name": "stdout",
          "text": [
            "              precision    recall  f1-score   support\n",
            "\n",
            "           0       0.59      0.57      0.58       161\n",
            "           1       0.46      0.40      0.42       164\n",
            "           2       0.38      0.59      0.46       160\n",
            "           3       0.30      0.49      0.37       144\n",
            "           4       0.48      0.30      0.37       173\n",
            "           5       0.64      0.30      0.41       158\n",
            "\n",
            "    accuracy                           0.44       960\n",
            "   macro avg       0.48      0.44      0.44       960\n",
            "weighted avg       0.48      0.44      0.44       960\n",
            "\n"
          ]
        }
      ]
    },
    {
      "cell_type": "markdown",
      "source": [
        "# Apply model on new data and save as csv for kaggle"
      ],
      "metadata": {
        "id": "iMdbBfDzcgGu"
      }
    },
    {
      "cell_type": "code",
      "source": [
        "new_data = preprocess(to_predict['sentence'])\n",
        "seq = tokenizer.texts_to_sequences(new_data)\n",
        "padded = pad_sequences(seq, maxlen=MAX_SEQUENCE_LENGTH)\n",
        "pred = model.predict(padded)"
      ],
      "metadata": {
        "id": "LA0bEDN2fFA8"
      },
      "execution_count": null,
      "outputs": []
    },
    {
      "cell_type": "code",
      "source": [
        "# Convert vectors back to classes\n",
        "pred = np.argmax(pred, axis=1)\n",
        "pred"
      ],
      "metadata": {
        "colab": {
          "base_uri": "https://localhost:8080/"
        },
        "id": "2Xr7Row_YybL",
        "outputId": "835258d8-9d2f-4411-8d9d-29eb54c34236"
      },
      "execution_count": null,
      "outputs": [
        {
          "output_type": "execute_result",
          "data": {
            "text/plain": [
              "array([5, 1, 0, ..., 5, 1, 2])"
            ]
          },
          "metadata": {},
          "execution_count": 90
        }
      ]
    },
    {
      "cell_type": "code",
      "source": [
        "sample_submission = to_predict.drop([\"sentence\"], axis=1)\n",
        "sample_submission[\"difficulty\"] = pd.Series(pred)\n",
        "sample_submission['difficulty'] = ['A1' if x==0 \n",
        "                   else 'A2' if x==1\n",
        "                   else 'B1' if x==2\n",
        "                   else 'B2' if x==3\n",
        "                   else 'C1' if x==4\n",
        "                   else 'C2' for x in sample_submission.difficulty]\n",
        "sample_submission['difficulty'] = sample_submission['difficulty'].astype(str)"
      ],
      "metadata": {
        "id": "ywCzWRrN57Xu"
      },
      "execution_count": null,
      "outputs": []
    },
    {
      "cell_type": "code",
      "source": [
        "sample_submission.head()\n",
        "sample_submission.to_csv('sample_submission.csv', index=False)\n",
        "!cp sample_submission.csv \"drive/My Drive/\""
      ],
      "metadata": {
        "id": "ScFbsM0egBDz"
      },
      "execution_count": null,
      "outputs": []
    }
  ]
}